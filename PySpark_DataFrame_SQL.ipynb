{
  "nbformat": 4,
  "nbformat_minor": 0,
  "metadata": {
    "colab": {
      "name": "PySpark_DataFrame_SQL.ipynb",
      "provenance": [],
      "authorship_tag": "ABX9TyOaxp8gsvXBY+blkkBeRUxx",
      "include_colab_link": true
    },
    "kernelspec": {
      "name": "python3",
      "display_name": "Python 3"
    },
    "language_info": {
      "name": "python"
    }
  },
  "cells": [
    {
      "cell_type": "markdown",
      "metadata": {
        "id": "view-in-github",
        "colab_type": "text"
      },
      "source": [
        "<a href=\"https://colab.research.google.com/github/piyu18/PySpark/blob/main/PySpark_DataFrame_SQL.ipynb\" target=\"_parent\"><img src=\"https://colab.research.google.com/assets/colab-badge.svg\" alt=\"Open In Colab\"/></a>"
      ]
    },
    {
      "cell_type": "markdown",
      "source": [
        "#### DataFrame:\n",
        "PySpark DataFrame is almost similar to Pandas DataFrame except that, pandas DataFrame stores data on a single machine while PySpark DataFrames are distributed in the cluster (the data in DataFrame's are stored in different machines in a cluster) and any operations in PySpark executes in parallel on all machines. PySpark DataFrames are lazily evaluated. They are implemented on top of RDD's.\n",
        "PySpark applications start with initializing SparkSession which is the entry point of PySpark as below. "
      ],
      "metadata": {
        "id": "ZGxOkmPQE1XX"
      }
    },
    {
      "cell_type": "code",
      "execution_count": null,
      "metadata": {
        "id": "gMRKNDidEwex"
      },
      "outputs": [],
      "source": [
        "!pip install pyspark"
      ]
    },
    {
      "cell_type": "code",
      "source": [
        "from pyspark.sql import SparkSession\n",
        "spark = SparkSession.builder.getOrCreate()"
      ],
      "metadata": {
        "id": "CqrA__43Fc8y"
      },
      "execution_count": 2,
      "outputs": []
    },
    {
      "cell_type": "markdown",
      "source": [
        "#### DataFrame Creation"
      ],
      "metadata": {
        "id": "YcrlXSrMGJ9Z"
      }
    },
    {
      "cell_type": "code",
      "source": [
        "data = [('Tom','M',3000),\n",
        "  ('Neal','M',4000),\n",
        "  ('Robert','M',4000),\n",
        "  ('Aina','F',4000),\n",
        "  ('Mary','F',5000)\n",
        "]\n",
        "columns = ['name','gender','salary']\n",
        "spark_df = spark.createDataFrame(data=data,schema=columns)\n",
        "spark_df.show()"
      ],
      "metadata": {
        "colab": {
          "base_uri": "https://localhost:8080/"
        },
        "id": "ZlxcR7VmF5Mn",
        "outputId": "8da9015d-0c75-4159-8e10-f1e31637a71c"
      },
      "execution_count": 3,
      "outputs": [
        {
          "output_type": "stream",
          "name": "stdout",
          "text": [
            "+------+------+------+\n",
            "|  name|gender|salary|\n",
            "+------+------+------+\n",
            "|   Tom|     M|  3000|\n",
            "|  Neal|     M|  4000|\n",
            "|Robert|     M|  4000|\n",
            "|  Aina|     F|  4000|\n",
            "|  Mary|     F|  5000|\n",
            "+------+------+------+\n",
            "\n"
          ]
        }
      ]
    },
    {
      "cell_type": "code",
      "source": [
        "spark_df.printSchema()"
      ],
      "metadata": {
        "colab": {
          "base_uri": "https://localhost:8080/"
        },
        "id": "5HlvJ1PrIWq_",
        "outputId": "66d8d21f-a2e4-4a89-e726-de3c075d03a8"
      },
      "execution_count": 4,
      "outputs": [
        {
          "output_type": "stream",
          "name": "stdout",
          "text": [
            "root\n",
            " |-- name: string (nullable = true)\n",
            " |-- gender: string (nullable = true)\n",
            " |-- salary: long (nullable = true)\n",
            "\n"
          ]
        }
      ]
    },
    {
      "cell_type": "markdown",
      "source": [
        "Spark DataFrame using pandas DataFrame"
      ],
      "metadata": {
        "id": "fitqgYI0Irji"
      }
    },
    {
      "cell_type": "code",
      "source": [
        "import pandas as pd\n",
        "pandas_df = pd.DataFrame(data=data,columns=columns)\n",
        "spark_df = spark.createDataFrame(pandas_df)\n",
        "spark_df.show(2)"
      ],
      "metadata": {
        "colab": {
          "base_uri": "https://localhost:8080/"
        },
        "id": "XALavLG5IlC-",
        "outputId": "34f8c990-ca81-4972-8b97-b4ed1304bbf8"
      },
      "execution_count": 5,
      "outputs": [
        {
          "output_type": "stream",
          "name": "stdout",
          "text": [
            "+----+------+------+\n",
            "|name|gender|salary|\n",
            "+----+------+------+\n",
            "| Tom|     M|  3000|\n",
            "|Neal|     M|  4000|\n",
            "+----+------+------+\n",
            "only showing top 2 rows\n",
            "\n"
          ]
        }
      ]
    },
    {
      "cell_type": "code",
      "source": [
        "spark_df.show(2, vertical=True)"
      ],
      "metadata": {
        "colab": {
          "base_uri": "https://localhost:8080/"
        },
        "id": "8BZGGNZMJDdE",
        "outputId": "025acd23-2272-4d11-edf9-c1c1cd49f085"
      },
      "execution_count": 6,
      "outputs": [
        {
          "output_type": "stream",
          "name": "stdout",
          "text": [
            "-RECORD 0------\n",
            " name   | Tom  \n",
            " gender | M    \n",
            " salary | 3000 \n",
            "-RECORD 1------\n",
            " name   | Neal \n",
            " gender | M    \n",
            " salary | 4000 \n",
            "only showing top 2 rows\n",
            "\n"
          ]
        }
      ]
    },
    {
      "cell_type": "code",
      "source": [
        "spark_df.columns"
      ],
      "metadata": {
        "colab": {
          "base_uri": "https://localhost:8080/"
        },
        "id": "mdZPhjvBKIpF",
        "outputId": "fe25ee82-b5b2-4d14-ce7d-07d141bb6c13"
      },
      "execution_count": 7,
      "outputs": [
        {
          "output_type": "execute_result",
          "data": {
            "text/plain": [
              "['name', 'gender', 'salary']"
            ]
          },
          "metadata": {},
          "execution_count": 7
        }
      ]
    },
    {
      "cell_type": "markdown",
      "source": [
        "DataFrame.collect() collects the distributed data to the driver side as the local data in Python. \n",
        "This can throw an out-of-memory error when the dataset is too large to fit in the driver side because it collects all the data from executors to the driver side."
      ],
      "metadata": {
        "id": "HrmtoFL4Kin4"
      }
    },
    {
      "cell_type": "code",
      "source": [
        "spark_df.collect()"
      ],
      "metadata": {
        "colab": {
          "base_uri": "https://localhost:8080/"
        },
        "id": "R7v4zllJKSLh",
        "outputId": "8a4db9d7-aaa9-40a2-9117-3d5ca77633d8"
      },
      "execution_count": 8,
      "outputs": [
        {
          "output_type": "execute_result",
          "data": {
            "text/plain": [
              "[Row(name='Tom', gender='M', salary=3000),\n",
              " Row(name='Neal', gender='M', salary=4000),\n",
              " Row(name='Robert', gender='M', salary=4000),\n",
              " Row(name='Aina', gender='F', salary=4000),\n",
              " Row(name='Mary', gender='F', salary=5000)]"
            ]
          },
          "metadata": {},
          "execution_count": 8
        }
      ]
    },
    {
      "cell_type": "markdown",
      "source": [
        "In order to avoid throwing an out-of-memory exception, use DataFrame.take() or DataFrame.tail()"
      ],
      "metadata": {
        "id": "yl4EpHQYK1OA"
      }
    },
    {
      "cell_type": "code",
      "source": [
        "spark_df.take(3)"
      ],
      "metadata": {
        "colab": {
          "base_uri": "https://localhost:8080/"
        },
        "id": "rcygzcH9Kttd",
        "outputId": "ab95413f-0430-4656-ed64-4f616959a950"
      },
      "execution_count": 9,
      "outputs": [
        {
          "output_type": "execute_result",
          "data": {
            "text/plain": [
              "[Row(name='Tom', gender='M', salary=3000),\n",
              " Row(name='Neal', gender='M', salary=4000),\n",
              " Row(name='Robert', gender='M', salary=4000)]"
            ]
          },
          "metadata": {},
          "execution_count": 9
        }
      ]
    },
    {
      "cell_type": "code",
      "source": [
        "spark_df.tail(2)"
      ],
      "metadata": {
        "colab": {
          "base_uri": "https://localhost:8080/"
        },
        "id": "R5Q905xIK65J",
        "outputId": "48627823-70f0-40af-d2c5-0cf13711c327"
      },
      "execution_count": 10,
      "outputs": [
        {
          "output_type": "execute_result",
          "data": {
            "text/plain": [
              "[Row(name='Aina', gender='F', salary=4000),\n",
              " Row(name='Mary', gender='F', salary=5000)]"
            ]
          },
          "metadata": {},
          "execution_count": 10
        }
      ]
    },
    {
      "cell_type": "markdown",
      "source": [
        "Conert PySpark DataFrame to pandas DataFrame"
      ],
      "metadata": {
        "id": "EpEhsPzoLIbO"
      }
    },
    {
      "cell_type": "code",
      "source": [
        "spark_df.toPandas()"
      ],
      "metadata": {
        "colab": {
          "base_uri": "https://localhost:8080/",
          "height": 206
        },
        "id": "DbSqkOrBK_1m",
        "outputId": "6f2293a2-b33c-4897-bf8f-62f91b49c134"
      },
      "execution_count": 11,
      "outputs": [
        {
          "output_type": "execute_result",
          "data": {
            "text/plain": [
              "     name gender  salary\n",
              "0     Tom      M    3000\n",
              "1    Neal      M    4000\n",
              "2  Robert      M    4000\n",
              "3    Aina      F    4000\n",
              "4    Mary      F    5000"
            ],
            "text/html": [
              "\n",
              "  <div id=\"df-f946bb01-48f5-4810-983c-a18960bf26d7\">\n",
              "    <div class=\"colab-df-container\">\n",
              "      <div>\n",
              "<style scoped>\n",
              "    .dataframe tbody tr th:only-of-type {\n",
              "        vertical-align: middle;\n",
              "    }\n",
              "\n",
              "    .dataframe tbody tr th {\n",
              "        vertical-align: top;\n",
              "    }\n",
              "\n",
              "    .dataframe thead th {\n",
              "        text-align: right;\n",
              "    }\n",
              "</style>\n",
              "<table border=\"1\" class=\"dataframe\">\n",
              "  <thead>\n",
              "    <tr style=\"text-align: right;\">\n",
              "      <th></th>\n",
              "      <th>name</th>\n",
              "      <th>gender</th>\n",
              "      <th>salary</th>\n",
              "    </tr>\n",
              "  </thead>\n",
              "  <tbody>\n",
              "    <tr>\n",
              "      <th>0</th>\n",
              "      <td>Tom</td>\n",
              "      <td>M</td>\n",
              "      <td>3000</td>\n",
              "    </tr>\n",
              "    <tr>\n",
              "      <th>1</th>\n",
              "      <td>Neal</td>\n",
              "      <td>M</td>\n",
              "      <td>4000</td>\n",
              "    </tr>\n",
              "    <tr>\n",
              "      <th>2</th>\n",
              "      <td>Robert</td>\n",
              "      <td>M</td>\n",
              "      <td>4000</td>\n",
              "    </tr>\n",
              "    <tr>\n",
              "      <th>3</th>\n",
              "      <td>Aina</td>\n",
              "      <td>F</td>\n",
              "      <td>4000</td>\n",
              "    </tr>\n",
              "    <tr>\n",
              "      <th>4</th>\n",
              "      <td>Mary</td>\n",
              "      <td>F</td>\n",
              "      <td>5000</td>\n",
              "    </tr>\n",
              "  </tbody>\n",
              "</table>\n",
              "</div>\n",
              "      <button class=\"colab-df-convert\" onclick=\"convertToInteractive('df-f946bb01-48f5-4810-983c-a18960bf26d7')\"\n",
              "              title=\"Convert this dataframe to an interactive table.\"\n",
              "              style=\"display:none;\">\n",
              "        \n",
              "  <svg xmlns=\"http://www.w3.org/2000/svg\" height=\"24px\"viewBox=\"0 0 24 24\"\n",
              "       width=\"24px\">\n",
              "    <path d=\"M0 0h24v24H0V0z\" fill=\"none\"/>\n",
              "    <path d=\"M18.56 5.44l.94 2.06.94-2.06 2.06-.94-2.06-.94-.94-2.06-.94 2.06-2.06.94zm-11 1L8.5 8.5l.94-2.06 2.06-.94-2.06-.94L8.5 2.5l-.94 2.06-2.06.94zm10 10l.94 2.06.94-2.06 2.06-.94-2.06-.94-.94-2.06-.94 2.06-2.06.94z\"/><path d=\"M17.41 7.96l-1.37-1.37c-.4-.4-.92-.59-1.43-.59-.52 0-1.04.2-1.43.59L10.3 9.45l-7.72 7.72c-.78.78-.78 2.05 0 2.83L4 21.41c.39.39.9.59 1.41.59.51 0 1.02-.2 1.41-.59l7.78-7.78 2.81-2.81c.8-.78.8-2.07 0-2.86zM5.41 20L4 18.59l7.72-7.72 1.47 1.35L5.41 20z\"/>\n",
              "  </svg>\n",
              "      </button>\n",
              "      \n",
              "  <style>\n",
              "    .colab-df-container {\n",
              "      display:flex;\n",
              "      flex-wrap:wrap;\n",
              "      gap: 12px;\n",
              "    }\n",
              "\n",
              "    .colab-df-convert {\n",
              "      background-color: #E8F0FE;\n",
              "      border: none;\n",
              "      border-radius: 50%;\n",
              "      cursor: pointer;\n",
              "      display: none;\n",
              "      fill: #1967D2;\n",
              "      height: 32px;\n",
              "      padding: 0 0 0 0;\n",
              "      width: 32px;\n",
              "    }\n",
              "\n",
              "    .colab-df-convert:hover {\n",
              "      background-color: #E2EBFA;\n",
              "      box-shadow: 0px 1px 2px rgba(60, 64, 67, 0.3), 0px 1px 3px 1px rgba(60, 64, 67, 0.15);\n",
              "      fill: #174EA6;\n",
              "    }\n",
              "\n",
              "    [theme=dark] .colab-df-convert {\n",
              "      background-color: #3B4455;\n",
              "      fill: #D2E3FC;\n",
              "    }\n",
              "\n",
              "    [theme=dark] .colab-df-convert:hover {\n",
              "      background-color: #434B5C;\n",
              "      box-shadow: 0px 1px 3px 1px rgba(0, 0, 0, 0.15);\n",
              "      filter: drop-shadow(0px 1px 2px rgba(0, 0, 0, 0.3));\n",
              "      fill: #FFFFFF;\n",
              "    }\n",
              "  </style>\n",
              "\n",
              "      <script>\n",
              "        const buttonEl =\n",
              "          document.querySelector('#df-f946bb01-48f5-4810-983c-a18960bf26d7 button.colab-df-convert');\n",
              "        buttonEl.style.display =\n",
              "          google.colab.kernel.accessAllowed ? 'block' : 'none';\n",
              "\n",
              "        async function convertToInteractive(key) {\n",
              "          const element = document.querySelector('#df-f946bb01-48f5-4810-983c-a18960bf26d7');\n",
              "          const dataTable =\n",
              "            await google.colab.kernel.invokeFunction('convertToInteractive',\n",
              "                                                     [key], {});\n",
              "          if (!dataTable) return;\n",
              "\n",
              "          const docLinkHtml = 'Like what you see? Visit the ' +\n",
              "            '<a target=\"_blank\" href=https://colab.research.google.com/notebooks/data_table.ipynb>data table notebook</a>'\n",
              "            + ' to learn more about interactive tables.';\n",
              "          element.innerHTML = '';\n",
              "          dataTable['output_type'] = 'display_data';\n",
              "          await google.colab.output.renderOutput(dataTable, element);\n",
              "          const docLink = document.createElement('div');\n",
              "          docLink.innerHTML = docLinkHtml;\n",
              "          element.appendChild(docLink);\n",
              "        }\n",
              "      </script>\n",
              "    </div>\n",
              "  </div>\n",
              "  "
            ]
          },
          "metadata": {},
          "execution_count": 11
        }
      ]
    },
    {
      "cell_type": "markdown",
      "source": [
        "PySpark DataFrame is lazily evaluated and simply selecting a column does not trigger the computation but it returns a Column instance."
      ],
      "metadata": {
        "id": "aFPLZRMcLwSr"
      }
    },
    {
      "cell_type": "code",
      "source": [
        "spark_df.gender"
      ],
      "metadata": {
        "colab": {
          "base_uri": "https://localhost:8080/"
        },
        "id": "i1I3-pe0LW_8",
        "outputId": "bb926363-8624-4b6c-a1aa-2a23b1192e9e"
      },
      "execution_count": 12,
      "outputs": [
        {
          "output_type": "execute_result",
          "data": {
            "text/plain": [
              "Column<'gender'>"
            ]
          },
          "metadata": {},
          "execution_count": 12
        }
      ]
    },
    {
      "cell_type": "code",
      "source": [
        "from pyspark.sql import Column\n",
        "from pyspark.sql.functions import lower\n",
        "\n",
        "type(spark_df.name) == type(lower(spark_df.name)) == type(spark_df.name.isNull())"
      ],
      "metadata": {
        "colab": {
          "base_uri": "https://localhost:8080/"
        },
        "id": "3Uk8y0FvL2JM",
        "outputId": "b459e482-eb2f-4693-fd3d-5a6f6fcb6c22"
      },
      "execution_count": 13,
      "outputs": [
        {
          "output_type": "execute_result",
          "data": {
            "text/plain": [
              "True"
            ]
          },
          "metadata": {},
          "execution_count": 13
        }
      ]
    },
    {
      "cell_type": "code",
      "source": [
        "type(lower(spark_df.name))"
      ],
      "metadata": {
        "colab": {
          "base_uri": "https://localhost:8080/"
        },
        "id": "768zqRCkMlPq",
        "outputId": "d8e70b91-f9e9-4766-843a-8c403aba751f"
      },
      "execution_count": 14,
      "outputs": [
        {
          "output_type": "execute_result",
          "data": {
            "text/plain": [
              "pyspark.sql.column.Column"
            ]
          },
          "metadata": {},
          "execution_count": 14
        }
      ]
    },
    {
      "cell_type": "markdown",
      "source": [
        "DataFrame.select() takes the Column instances that returns another DataFrame."
      ],
      "metadata": {
        "id": "FspEtSLwNNCi"
      }
    },
    {
      "cell_type": "code",
      "source": [
        "spark_df.select(spark_df.gender).show()"
      ],
      "metadata": {
        "colab": {
          "base_uri": "https://localhost:8080/"
        },
        "id": "8px9_5qFMuRL",
        "outputId": "cb0006c6-3485-457d-c7c3-917c9a1b16eb"
      },
      "execution_count": 15,
      "outputs": [
        {
          "output_type": "stream",
          "name": "stdout",
          "text": [
            "+------+\n",
            "|gender|\n",
            "+------+\n",
            "|     M|\n",
            "|     M|\n",
            "|     M|\n",
            "|     F|\n",
            "|     F|\n",
            "+------+\n",
            "\n"
          ]
        }
      ]
    },
    {
      "cell_type": "markdown",
      "source": [
        "Assign new column instance"
      ],
      "metadata": {
        "id": "ttgsuVUbOXBc"
      }
    },
    {
      "cell_type": "code",
      "source": [
        "spark_df.withColumn('lower_gen', lower(spark_df.gender)).show()"
      ],
      "metadata": {
        "colab": {
          "base_uri": "https://localhost:8080/"
        },
        "id": "1cZc1wgaNBnE",
        "outputId": "9362aa12-a54b-4a8d-94ef-ea9e5916b391"
      },
      "execution_count": 16,
      "outputs": [
        {
          "output_type": "stream",
          "name": "stdout",
          "text": [
            "+------+------+------+---------+\n",
            "|  name|gender|salary|lower_gen|\n",
            "+------+------+------+---------+\n",
            "|   Tom|     M|  3000|        m|\n",
            "|  Neal|     M|  4000|        m|\n",
            "|Robert|     M|  4000|        m|\n",
            "|  Aina|     F|  4000|        f|\n",
            "|  Mary|     F|  5000|        f|\n",
            "+------+------+------+---------+\n",
            "\n"
          ]
        }
      ]
    },
    {
      "cell_type": "markdown",
      "source": [
        "To select a subset of rows, use DataFrame.filter()."
      ],
      "metadata": {
        "id": "vZfRNuCYO0Xe"
      }
    },
    {
      "cell_type": "code",
      "source": [
        "spark_df.filter(spark_df.salary<4000).show()"
      ],
      "metadata": {
        "colab": {
          "base_uri": "https://localhost:8080/"
        },
        "id": "Xpv02MtFOl01",
        "outputId": "8235232c-8b86-4f86-ea18-185d835d803d"
      },
      "execution_count": 17,
      "outputs": [
        {
          "output_type": "stream",
          "name": "stdout",
          "text": [
            "+----+------+------+\n",
            "|name|gender|salary|\n",
            "+----+------+------+\n",
            "| Tom|     M|  3000|\n",
            "+----+------+------+\n",
            "\n"
          ]
        }
      ]
    },
    {
      "cell_type": "markdown",
      "source": [
        "Grouping Data"
      ],
      "metadata": {
        "id": "oLXNdj6TPbkX"
      }
    },
    {
      "cell_type": "code",
      "source": [
        "spark_df.groupBy('gender').avg().show()"
      ],
      "metadata": {
        "colab": {
          "base_uri": "https://localhost:8080/"
        },
        "id": "ygoLeMoyPB7n",
        "outputId": "c3936023-eab5-4c1c-c825-9af7e35ad62a"
      },
      "execution_count": 18,
      "outputs": [
        {
          "output_type": "stream",
          "name": "stdout",
          "text": [
            "+------+------------------+\n",
            "|gender|       avg(salary)|\n",
            "+------+------------------+\n",
            "|     M|3666.6666666666665|\n",
            "|     F|            4500.0|\n",
            "+------+------------------+\n",
            "\n"
          ]
        }
      ]
    },
    {
      "cell_type": "markdown",
      "source": [
        "#### Working with SQL\n",
        "DataFrame and Spark SQL share the same execution engine so they can be interchangeably used seamlessly. For example, you can register the DataFrame as a table and run a SQL easily as below:"
      ],
      "metadata": {
        "id": "JZWWyw45oj9M"
      }
    },
    {
      "cell_type": "code",
      "source": [
        "spark_df.createOrReplaceTempView(\"tableA\")\n",
        "spark.sql(\"SELECT count(*) from tableA\").show()"
      ],
      "metadata": {
        "colab": {
          "base_uri": "https://localhost:8080/"
        },
        "id": "VCYIWi05oIiP",
        "outputId": "d03d6e10-636e-4cc6-81e5-1323af918ee2"
      },
      "execution_count": 19,
      "outputs": [
        {
          "output_type": "stream",
          "name": "stdout",
          "text": [
            "+--------+\n",
            "|count(1)|\n",
            "+--------+\n",
            "|       5|\n",
            "+--------+\n",
            "\n"
          ]
        }
      ]
    },
    {
      "cell_type": "code",
      "source": [
        "spark.sql(\"Select * from tableA\").show()"
      ],
      "metadata": {
        "colab": {
          "base_uri": "https://localhost:8080/"
        },
        "id": "-wA2P_azobG8",
        "outputId": "4300479e-076b-47e1-8313-3b152b812bf5"
      },
      "execution_count": 20,
      "outputs": [
        {
          "output_type": "stream",
          "name": "stdout",
          "text": [
            "+------+------+------+\n",
            "|  name|gender|salary|\n",
            "+------+------+------+\n",
            "|   Tom|     M|  3000|\n",
            "|  Neal|     M|  4000|\n",
            "|Robert|     M|  4000|\n",
            "|  Aina|     F|  4000|\n",
            "|  Mary|     F|  5000|\n",
            "+------+------+------+\n",
            "\n"
          ]
        }
      ]
    },
    {
      "cell_type": "code",
      "source": [
        "spark.sql(\"Select * from tableA where gender='M'\").show()"
      ],
      "metadata": {
        "colab": {
          "base_uri": "https://localhost:8080/"
        },
        "id": "mV4_hFxToylZ",
        "outputId": "edeb2fd7-3880-4bd8-fc46-375d507c1a9b"
      },
      "execution_count": 21,
      "outputs": [
        {
          "output_type": "stream",
          "name": "stdout",
          "text": [
            "+------+------+------+\n",
            "|  name|gender|salary|\n",
            "+------+------+------+\n",
            "|   Tom|     M|  3000|\n",
            "|  Neal|     M|  4000|\n",
            "|Robert|     M|  4000|\n",
            "+------+------+------+\n",
            "\n"
          ]
        }
      ]
    },
    {
      "cell_type": "markdown",
      "source": [
        "#### PySpark UDF's (User defined Functions)\n",
        "are similar to UDF on traditional databases. In PySpark, you create a function in a Python syntax and wrap it with PySpark SQL udf() or register it as udf and use it on DataFrame and SQL respectively.\n",
        "#### UDF with annotations"
      ],
      "metadata": {
        "id": "xZ5scWonvxoQ"
      }
    },
    {
      "cell_type": "code",
      "source": [
        "from pyspark.sql.types import IntegerType,StringType\n",
        "from pyspark.sql.functions import udf\n",
        "@udf(returnType=IntegerType())\n",
        "def add_one(int):\n",
        "    return int + 1000\n",
        "\n",
        "spark.udf.register(\"add_one\", add_one)\n",
        "spark.sql(\"SELECT add_one(salary) FROM tableA\").show()"
      ],
      "metadata": {
        "colab": {
          "base_uri": "https://localhost:8080/"
        },
        "id": "DHL3TfM7phNY",
        "outputId": "a95888e3-340f-48cd-8391-8a5b80bb3cbf"
      },
      "execution_count": 22,
      "outputs": [
        {
          "output_type": "stream",
          "name": "stdout",
          "text": [
            "+---------------+\n",
            "|add_one(salary)|\n",
            "+---------------+\n",
            "|           4000|\n",
            "|           5000|\n",
            "|           5000|\n",
            "|           5000|\n",
            "|           6000|\n",
            "+---------------+\n",
            "\n"
          ]
        }
      ]
    },
    {
      "cell_type": "markdown",
      "source": [
        "#### Making UDF from sample functions"
      ],
      "metadata": {
        "id": "FLSUlWhHwre0"
      }
    },
    {
      "cell_type": "code",
      "source": [
        "def str_lower(x):\n",
        "  return x.lower()"
      ],
      "metadata": {
        "id": "8kdflEpMvmsj"
      },
      "execution_count": 23,
      "outputs": []
    },
    {
      "cell_type": "code",
      "source": [
        "udf_lower = udf(lambda x : str_lower(x))"
      ],
      "metadata": {
        "id": "O-o4NarRw9NI"
      },
      "execution_count": 24,
      "outputs": []
    },
    {
      "cell_type": "code",
      "source": [
        "spark_df.withColumn(\"Special Names\", udf_lower(\"name\")).show()"
      ],
      "metadata": {
        "colab": {
          "base_uri": "https://localhost:8080/"
        },
        "id": "P8kkGArFxA9H",
        "outputId": "981a9fae-7a6a-4cee-a253-bc93041c0b94"
      },
      "execution_count": 25,
      "outputs": [
        {
          "output_type": "stream",
          "name": "stdout",
          "text": [
            "+------+------+------+-------------+\n",
            "|  name|gender|salary|Special Names|\n",
            "+------+------+------+-------------+\n",
            "|   Tom|     M|  3000|          tom|\n",
            "|  Neal|     M|  4000|         neal|\n",
            "|Robert|     M|  4000|       robert|\n",
            "|  Aina|     F|  4000|         aina|\n",
            "|  Mary|     F|  5000|         mary|\n",
            "+------+------+------+-------------+\n",
            "\n"
          ]
        }
      ]
    }
  ]
}