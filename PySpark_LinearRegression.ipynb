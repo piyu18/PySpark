{
  "nbformat": 4,
  "nbformat_minor": 0,
  "metadata": {
    "colab": {
      "name": "PySpark_LinearRegression.ipynb",
      "provenance": [],
      "authorship_tag": "ABX9TyO1jixjAMq3TgzKAVmxbDN9",
      "include_colab_link": true
    },
    "kernelspec": {
      "name": "python3",
      "display_name": "Python 3"
    },
    "language_info": {
      "name": "python"
    }
  },
  "cells": [
    {
      "cell_type": "markdown",
      "metadata": {
        "id": "view-in-github",
        "colab_type": "text"
      },
      "source": [
        "<a href=\"https://colab.research.google.com/github/piyu18/PySpark/blob/main/PySpark_LinearRegression.ipynb\" target=\"_parent\"><img src=\"https://colab.research.google.com/assets/colab-badge.svg\" alt=\"Open In Colab\"/></a>"
      ]
    },
    {
      "cell_type": "code",
      "execution_count": 2,
      "metadata": {
        "colab": {
          "base_uri": "https://localhost:8080/"
        },
        "id": "knGsunNK4rnP",
        "outputId": "41957fa5-b508-4685-e4c5-a46df96de720"
      },
      "outputs": [
        {
          "output_type": "stream",
          "name": "stdout",
          "text": [
            "Looking in indexes: https://pypi.org/simple, https://us-python.pkg.dev/colab-wheels/public/simple/\n",
            "Requirement already satisfied: pyspark in /usr/local/lib/python3.7/dist-packages (3.3.0)\n",
            "Requirement already satisfied: py4j==0.10.9.5 in /usr/local/lib/python3.7/dist-packages (from pyspark) (0.10.9.5)\n"
          ]
        }
      ],
      "source": [
        "! pip install pyspark"
      ]
    },
    {
      "cell_type": "code",
      "source": [
        "#Import neccesarry libraries\n",
        "from pyspark.sql import SparkSession\n",
        "from pyspark.ml.regression import LinearRegression\n",
        "from pyspark.ml.feature import VectorAssembler"
      ],
      "metadata": {
        "id": "ox_jbdvVBKQv"
      },
      "execution_count": 3,
      "outputs": []
    },
    {
      "cell_type": "code",
      "source": [
        "#create spark session\n",
        "spark = SparkSession.builder.appName('Linear_Regression').getOrCreate()"
      ],
      "metadata": {
        "id": "u2nWv9FdAODY"
      },
      "execution_count": 4,
      "outputs": []
    },
    {
      "cell_type": "markdown",
      "source": [
        "The input data set contains data about details of customerce using Ecommerce. Based on the information provided, the goal is to come up with a model to predict how much time customer is spending yearly."
      ],
      "metadata": {
        "id": "zPlqQOYmQG1p"
      }
    },
    {
      "cell_type": "code",
      "source": [
        "df = spark.read.csv('/content/Ecommerce_Customers.csv',inferSchema=True,header=True)\n",
        "df.show(5)"
      ],
      "metadata": {
        "colab": {
          "base_uri": "https://localhost:8080/"
        },
        "id": "NnsZN67tCijq",
        "outputId": "03ac369e-c3fe-4878-ddd5-7876a4e12416"
      },
      "execution_count": 5,
      "outputs": [
        {
          "output_type": "stream",
          "name": "stdout",
          "text": [
            "+--------------------+--------------------+------------------+-----------+---------------+--------------------+-------------------+\n",
            "|               Email|             Address|Avg Session Length|Time on App|Time on Website|Length of Membership|Yearly Amount Spent|\n",
            "+--------------------+--------------------+------------------+-----------+---------------+--------------------+-------------------+\n",
            "|mstephenson@ferna...|835 Frank TunnelW...|       34.49726773|12.65565115|    39.57766802|         4.082620633|         587.951054|\n",
            "|   hduke@hotmail.com|4547 Archer Commo...|       31.92627203|11.10946073|    37.26895887|         2.664034182|        392.2049334|\n",
            "|    pallen@yahoo.com|24645 Valerie Uni...|       33.00091476|11.33027806|    37.11059744|         4.104543202|        487.5475049|\n",
            "|riverarebecca@gma...|1414 David Throug...|       34.30555663|13.71751367|    36.72128268|         3.120178783|         581.852344|\n",
            "|mstephens@davidso...|14023 Rodriguez P...|       33.33067252|12.79518855|     37.5366533|         4.446308318|         599.406092|\n",
            "+--------------------+--------------------+------------------+-----------+---------------+--------------------+-------------------+\n",
            "only showing top 5 rows\n",
            "\n"
          ]
        }
      ]
    },
    {
      "cell_type": "code",
      "source": [
        "df"
      ],
      "metadata": {
        "colab": {
          "base_uri": "https://localhost:8080/"
        },
        "id": "1lXV894aHfj_",
        "outputId": "5372c266-0a0d-4520-9550-373239b8c425"
      },
      "execution_count": 6,
      "outputs": [
        {
          "output_type": "execute_result",
          "data": {
            "text/plain": [
              "DataFrame[Email: string, Address: string, Avg Session Length: double, Time on App: double, Time on Website: double, Length of Membership: double, Yearly Amount Spent: double]"
            ]
          },
          "metadata": {},
          "execution_count": 6
        }
      ]
    },
    {
      "cell_type": "code",
      "source": [
        "df.printSchema()"
      ],
      "metadata": {
        "colab": {
          "base_uri": "https://localhost:8080/"
        },
        "id": "fPa3e2ZIDdo8",
        "outputId": "becad213-d8b3-47cc-ad6a-09249a5b0da0"
      },
      "execution_count": 7,
      "outputs": [
        {
          "output_type": "stream",
          "name": "stdout",
          "text": [
            "root\n",
            " |-- Email: string (nullable = true)\n",
            " |-- Address: string (nullable = true)\n",
            " |-- Avg Session Length: double (nullable = true)\n",
            " |-- Time on App: double (nullable = true)\n",
            " |-- Time on Website: double (nullable = true)\n",
            " |-- Length of Membership: double (nullable = true)\n",
            " |-- Yearly Amount Spent: double (nullable = true)\n",
            "\n"
          ]
        }
      ]
    },
    {
      "cell_type": "code",
      "source": [
        "df.columns"
      ],
      "metadata": {
        "colab": {
          "base_uri": "https://localhost:8080/"
        },
        "id": "IXnBgYvDHmWW",
        "outputId": "2ba1fa5b-5e63-446c-a9ca-477d20e8c5f2"
      },
      "execution_count": 8,
      "outputs": [
        {
          "output_type": "execute_result",
          "data": {
            "text/plain": [
              "['Email',\n",
              " 'Address',\n",
              " 'Avg Session Length',\n",
              " 'Time on App',\n",
              " 'Time on Website',\n",
              " 'Length of Membership',\n",
              " 'Yearly Amount Spent']"
            ]
          },
          "metadata": {},
          "execution_count": 8
        }
      ]
    },
    {
      "cell_type": "code",
      "source": [
        "cols=list(df.columns)"
      ],
      "metadata": {
        "id": "pGH4YtEnH2O0"
      },
      "execution_count": 9,
      "outputs": []
    },
    {
      "cell_type": "code",
      "source": [
        "cols"
      ],
      "metadata": {
        "colab": {
          "base_uri": "https://localhost:8080/"
        },
        "id": "lhcaMVXQH_wk",
        "outputId": "0a610589-1785-424d-c339-833e5caa0a1f"
      },
      "execution_count": 10,
      "outputs": [
        {
          "output_type": "execute_result",
          "data": {
            "text/plain": [
              "['Email',\n",
              " 'Address',\n",
              " 'Avg Session Length',\n",
              " 'Time on App',\n",
              " 'Time on Website',\n",
              " 'Length of Membership',\n",
              " 'Yearly Amount Spent']"
            ]
          },
          "metadata": {},
          "execution_count": 10
        }
      ]
    },
    {
      "cell_type": "code",
      "source": [
        "independent_cols =cols[2:len(cols)-1]"
      ],
      "metadata": {
        "id": "enqlWrHFHvXI"
      },
      "execution_count": 11,
      "outputs": []
    },
    {
      "cell_type": "code",
      "source": [
        "independent_cols"
      ],
      "metadata": {
        "colab": {
          "base_uri": "https://localhost:8080/"
        },
        "id": "cHvePkmPIJmW",
        "outputId": "99952246-a8f7-4212-aa60-a58e47013f0a"
      },
      "execution_count": 12,
      "outputs": [
        {
          "output_type": "execute_result",
          "data": {
            "text/plain": [
              "['Avg Session Length',\n",
              " 'Time on App',\n",
              " 'Time on Website',\n",
              " 'Length of Membership']"
            ]
          },
          "metadata": {},
          "execution_count": 12
        }
      ]
    },
    {
      "cell_type": "markdown",
      "source": [
        "#### VectorAssembler\n",
        "A feature transformer that merges multiple columns into a vector column."
      ],
      "metadata": {
        "id": "-kiZF31DNlw2"
      }
    },
    {
      "cell_type": "code",
      "source": [
        "feature = VectorAssembler(inputCols=independent_cols,outputCol='IndependentFeatureVector')"
      ],
      "metadata": {
        "id": "0MgJPNVsD6V0"
      },
      "execution_count": 13,
      "outputs": []
    },
    {
      "cell_type": "code",
      "source": [
        "output = feature.transform(df)\n",
        "output.select(\"IndependentFeatureVector\").show()"
      ],
      "metadata": {
        "colab": {
          "base_uri": "https://localhost:8080/"
        },
        "id": "06GqgdAtAhLP",
        "outputId": "0f5ece30-6597-44c5-e2bd-277f8b235e88"
      },
      "execution_count": 14,
      "outputs": [
        {
          "output_type": "stream",
          "name": "stdout",
          "text": [
            "+------------------------+\n",
            "|IndependentFeatureVector|\n",
            "+------------------------+\n",
            "|    [34.49726773,12.6...|\n",
            "|    [31.92627203,11.1...|\n",
            "|    [33.00091476,11.3...|\n",
            "|    [34.30555663,13.7...|\n",
            "|    [33.33067252,12.7...|\n",
            "|    [33.87103788,12.0...|\n",
            "|    [32.0215955,11.36...|\n",
            "|    [32.73914294,12.3...|\n",
            "|    [33.9877729,13.38...|\n",
            "|    [31.93654862,11.8...|\n",
            "|    [33.99257277,13.3...|\n",
            "|    [33.87936082,11.5...|\n",
            "|    [29.53242897,10.9...|\n",
            "|    [33.19033404,12.9...|\n",
            "|    [32.38797585,13.1...|\n",
            "|    [30.73772037,12.6...|\n",
            "|    [32.1253869,11.73...|\n",
            "|    [32.33889932,12.0...|\n",
            "|    [32.18781205,14.7...|\n",
            "|    [32.61785606,13.9...|\n",
            "+------------------------+\n",
            "only showing top 20 rows\n",
            "\n"
          ]
        }
      ]
    },
    {
      "cell_type": "code",
      "source": [
        "output=feature.transform(df)\n",
        "output.show()"
      ],
      "metadata": {
        "colab": {
          "base_uri": "https://localhost:8080/"
        },
        "id": "9zwPORY_As8J",
        "outputId": "f5aecee9-f238-482a-abb1-8462290f37f9"
      },
      "execution_count": 15,
      "outputs": [
        {
          "output_type": "stream",
          "name": "stdout",
          "text": [
            "+--------------------+--------------------+------------------+-----------+---------------+--------------------+-------------------+------------------------+\n",
            "|               Email|             Address|Avg Session Length|Time on App|Time on Website|Length of Membership|Yearly Amount Spent|IndependentFeatureVector|\n",
            "+--------------------+--------------------+------------------+-----------+---------------+--------------------+-------------------+------------------------+\n",
            "|mstephenson@ferna...|835 Frank TunnelW...|       34.49726773|12.65565115|    39.57766802|         4.082620633|         587.951054|    [34.49726773,12.6...|\n",
            "|   hduke@hotmail.com|4547 Archer Commo...|       31.92627203|11.10946073|    37.26895887|         2.664034182|        392.2049334|    [31.92627203,11.1...|\n",
            "|    pallen@yahoo.com|24645 Valerie Uni...|       33.00091476|11.33027806|    37.11059744|         4.104543202|        487.5475049|    [33.00091476,11.3...|\n",
            "|riverarebecca@gma...|1414 David Throug...|       34.30555663|13.71751367|    36.72128268|         3.120178783|         581.852344|    [34.30555663,13.7...|\n",
            "|mstephens@davidso...|14023 Rodriguez P...|       33.33067252|12.79518855|     37.5366533|         4.446308318|         599.406092|    [33.33067252,12.7...|\n",
            "|alvareznancy@luca...|645 Martha Park A...|       33.87103788|12.02692534|    34.47687763|         5.493507201|        637.1024479|    [33.87103788,12.0...|\n",
            "|katherine20@yahoo...|68388 Reyes Light...|        32.0215955|11.36634831|    36.68377615|         4.685017247|        521.5721748|    [32.0215955,11.36...|\n",
            "|  awatkins@yahoo.com|Unit 6538 Box 898...|       32.73914294|12.35195897|    37.37335886|         4.434273435|        549.9041461|    [32.73914294,12.3...|\n",
            "|vchurch@walter-ma...|860 Lee KeyWest D...|        33.9877729|13.38623528|    37.53449734|         3.273433578|         570.200409|    [33.9877729,13.38...|\n",
            "|    bonnie69@lin.biz|PSC 2734, Box 525...|       31.93654862|11.81412829|    37.14516822|         3.202806072|        427.1993849|    [31.93654862,11.8...|\n",
            "|andrew06@peterson...|26104 Alexander G...|       33.99257277|13.33897545|    37.22580613|         2.482607771|        492.6060127|    [33.99257277,13.3...|\n",
            "|ryanwerner@freema...|Unit 2413 Box 034...|       33.87936082|  11.584783|    37.08792607|         3.713209203|        522.3374046|    [33.87936082,11.5...|\n",
            "|   knelson@gmail.com|6705 Miller Orcha...|       29.53242897| 10.9612984|    37.42021558|         4.046423164|        408.6403511|    [29.53242897,10.9...|\n",
            "|wrightpeter@yahoo...|05302 Dunlap Ferr...|       33.19033404|12.95922609|     36.1446667|         3.918541839|        573.4158673|    [33.19033404,12.9...|\n",
            "|taylormason@gmail...|7773 Powell Sprin...|       32.38797585|13.14872569|    36.61995708|         2.494543647|        470.4527333|    [32.38797585,13.1...|\n",
            "| jstark@anderson.com|49558 Ramirez Roa...|       30.73772037|12.63660605|    36.21376309|         3.357846842|        461.7807422|    [30.73772037,12.6...|\n",
            "| wjennings@gmail.com|6362 Wilson Mount...|        32.1253869|11.73386169|    34.89409275|         3.136132716|        457.8476959|    [32.1253869,11.73...|\n",
            "|rebecca45@hale-ba...|8982 Burton RowWi...|       32.33889932|12.01319469|    38.38513659|         2.420806161|        407.7045475|    [32.33889932,12.0...|\n",
            "|alejandro75@hotma...|64475 Andre Club ...|       32.18781205|14.71538754|    38.24411459|         1.516575581|        452.3156755|    [32.18781205,14.7...|\n",
            "|samuel46@love-wes...|544 Alexander Hei...|       32.61785606|13.98959256|     37.1905038|          4.06454855|        605.0610388|    [32.61785606,13.9...|\n",
            "+--------------------+--------------------+------------------+-----------+---------------+--------------------+-------------------+------------------------+\n",
            "only showing top 20 rows\n",
            "\n"
          ]
        }
      ]
    },
    {
      "cell_type": "code",
      "source": [
        "final_data=output.select(\"IndependentFeatureVector\",\"Yearly Amount Spent\")\n",
        "final_data.show(5)"
      ],
      "metadata": {
        "colab": {
          "base_uri": "https://localhost:8080/"
        },
        "id": "-WFrgIMtJF58",
        "outputId": "51fac521-1e3d-473c-d1c3-f6b53754d30d"
      },
      "execution_count": 16,
      "outputs": [
        {
          "output_type": "stream",
          "name": "stdout",
          "text": [
            "+------------------------+-------------------+\n",
            "|IndependentFeatureVector|Yearly Amount Spent|\n",
            "+------------------------+-------------------+\n",
            "|    [34.49726773,12.6...|         587.951054|\n",
            "|    [31.92627203,11.1...|        392.2049334|\n",
            "|    [33.00091476,11.3...|        487.5475049|\n",
            "|    [34.30555663,13.7...|         581.852344|\n",
            "|    [33.33067252,12.7...|         599.406092|\n",
            "+------------------------+-------------------+\n",
            "only showing top 5 rows\n",
            "\n"
          ]
        }
      ]
    },
    {
      "cell_type": "code",
      "source": [
        "train_data,test_data=final_data.randomSplit([0.80,0.20])"
      ],
      "metadata": {
        "id": "KXdxhOXjJnh7"
      },
      "execution_count": 17,
      "outputs": []
    },
    {
      "cell_type": "code",
      "source": [
        "lr = LinearRegression(featuresCol='IndependentFeatureVector',labelCol='Yearly Amount Spent')\n",
        "lr = lr.fit(train_data)"
      ],
      "metadata": {
        "id": "oBl2KMzoJ0An"
      },
      "execution_count": 18,
      "outputs": []
    },
    {
      "cell_type": "code",
      "source": [
        "lr.coefficients"
      ],
      "metadata": {
        "colab": {
          "base_uri": "https://localhost:8080/"
        },
        "id": "rrJgx8UaKSx8",
        "outputId": "472a042b-441b-455d-8d2a-283b57c56435"
      },
      "execution_count": 19,
      "outputs": [
        {
          "output_type": "execute_result",
          "data": {
            "text/plain": [
              "DenseVector([25.5475, 38.811, 0.4157, 61.5348])"
            ]
          },
          "metadata": {},
          "execution_count": 19
        }
      ]
    },
    {
      "cell_type": "code",
      "source": [
        "lr.intercept"
      ],
      "metadata": {
        "colab": {
          "base_uri": "https://localhost:8080/"
        },
        "id": "My1uxI8cKY1M",
        "outputId": "efe8d853-3060-4546-d923-7db0928a74dc"
      },
      "execution_count": 20,
      "outputs": [
        {
          "output_type": "execute_result",
          "data": {
            "text/plain": [
              "-1045.8370114085758"
            ]
          },
          "metadata": {},
          "execution_count": 20
        }
      ]
    },
    {
      "cell_type": "code",
      "source": [
        "predicted_output = lr.evaluate(test_data)"
      ],
      "metadata": {
        "id": "ukeQnS3IKe7l"
      },
      "execution_count": 21,
      "outputs": []
    },
    {
      "cell_type": "code",
      "source": [
        "predicted_output.predictions.show(10)"
      ],
      "metadata": {
        "colab": {
          "base_uri": "https://localhost:8080/"
        },
        "id": "T5fQOSGeKueT",
        "outputId": "e10c7fa2-6525-4de3-8b7d-9b84e5525f9d"
      },
      "execution_count": 22,
      "outputs": [
        {
          "output_type": "stream",
          "name": "stdout",
          "text": [
            "+------------------------+-------------------+------------------+\n",
            "|IndependentFeatureVector|Yearly Amount Spent|        prediction|\n",
            "+------------------------+-------------------+------------------+\n",
            "|    [30.87948434,13.2...|           490.2066| 494.4515050251505|\n",
            "|    [31.04722214,11.1...|        392.4973992|388.16295661968434|\n",
            "|    [31.26064687,13.2...|        421.3266313|422.57596954998417|\n",
            "|    [31.57020083,13.3...|        545.9454921| 563.8939405564113|\n",
            "|    [31.6005122,12.22...|        479.1728515| 461.2824154771695|\n",
            "|    [31.65480968,13.0...|        475.2634237| 468.9115793560511|\n",
            "|    [31.66104982,11.3...|        416.3583536| 417.4206982769217|\n",
            "|    [31.72420252,13.1...|        503.3878873| 509.8458289231942|\n",
            "|    [31.8209982,10.77...|         424.675281| 417.1874012280816|\n",
            "|    [31.82797906,12.4...|        440.0027475|449.52855962672174|\n",
            "+------------------------+-------------------+------------------+\n",
            "only showing top 10 rows\n",
            "\n"
          ]
        }
      ]
    },
    {
      "cell_type": "code",
      "source": [
        "R2_coeff = predicted_output.r2"
      ],
      "metadata": {
        "id": "Cm9-Al_AK0We"
      },
      "execution_count": 23,
      "outputs": []
    },
    {
      "cell_type": "code",
      "source": [
        "R2_coeff"
      ],
      "metadata": {
        "colab": {
          "base_uri": "https://localhost:8080/"
        },
        "id": "1xmztpWMLOal",
        "outputId": "2aebced8-6866-4b5c-d110-b7caccb586d2"
      },
      "execution_count": 24,
      "outputs": [
        {
          "output_type": "execute_result",
          "data": {
            "text/plain": [
              "0.9856302698526402"
            ]
          },
          "metadata": {},
          "execution_count": 24
        }
      ]
    },
    {
      "cell_type": "markdown",
      "source": [
        "Coclusion: From the R-squared value we can come to conclusion that model is having an accuracy of 97%"
      ],
      "metadata": {
        "id": "lFiTPgaRVBQ1"
      }
    }
  ]
}